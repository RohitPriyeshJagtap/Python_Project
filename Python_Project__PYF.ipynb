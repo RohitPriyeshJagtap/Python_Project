{
  "nbformat": 4,
  "nbformat_minor": 0,
  "metadata": {
    "colab": {
      "provenance": []
    },
    "kernelspec": {
      "name": "python3",
      "display_name": "Python 3"
    },
    "language_info": {
      "name": "python"
    }
  },
  "cells": [
    {
      "cell_type": "markdown",
      "source": [
        "Q1: You are working in a bank, and you have been given two lists of the employees who worked in 2021. Employees’ names in list 1 are Ramesh, Suresh, Mahesh, Ali, Jacob, and Saritha. List 2 contains the names of Ali, Mukesh, Mahesh, Jacob, Sai, and Sarita. Please write a program that helps to identify people who are common in both lists. Please do not use any in-built function."
      ],
      "metadata": {
        "id": "MSDe_1EncXgY"
      }
    },
    {
      "cell_type": "code",
      "execution_count": null,
      "metadata": {
        "id": "JUISJL1AcNPx",
        "colab": {
          "base_uri": "https://localhost:8080/"
        },
        "outputId": "2ee1c00a-21df-47bd-cc2a-e1445b28dc0f"
      },
      "outputs": [
        {
          "output_type": "stream",
          "name": "stdout",
          "text": [
            "['Mahesh', 'Ali', 'Jacob']\n"
          ]
        }
      ],
      "source": [
        "list1=[\"Ramesh\",\"Suresh\",\"Mahesh\",\"Ali\",\"Jacob\",\"Saritha\"]\n",
        "list2=[\"Ali\",\"Mukesh\",\"Mahesh\",\"Jacob\",\"Sai\",\"Sarita\"]\n",
        "\n",
        "common_list=[] # empty list to store common names between the two lists\n",
        "\n",
        "for i in list1:\n",
        "  for j in list2:\n",
        "    if i==j:\n",
        "      common_list.append(i)\n",
        "print(common_list)"
      ]
    },
    {
      "cell_type": "markdown",
      "source": [
        "Q2: While entering data, someone entered a few names as a common string “Ramesh Suresh Mohit”. Please write a program which separates all the names and converts them into a list. Once converted into a list, please write a program that adds their age.\n",
        "\n",
        "\n",
        "\n",
        "Ramesh:  25\n",
        "\n",
        "Suresh: 22\n",
        "\n",
        "Mohit: 26\n",
        "\n"
      ],
      "metadata": {
        "id": "GcoH6wFmccpH"
      }
    },
    {
      "cell_type": "code",
      "source": [
        "common_string = \"Ramesh Suresh Mohit\"\n",
        "\n",
        "name_str=common_string.split()\n",
        "ages = {'Ramesh': 25, 'Suresh': 22, 'Mohit': 26}\n",
        "total_age = sum(ages[name] for name in name_str if name in ages) # checks the name_str in ages\n",
        "print(f\"Sum of their age: {total_age}\")"
      ],
      "metadata": {
        "id": "KxFl9LEZcgfY",
        "colab": {
          "base_uri": "https://localhost:8080/"
        },
        "outputId": "55e48599-0a87-4a47-cab5-391e5c68b1bc"
      },
      "execution_count": null,
      "outputs": [
        {
          "output_type": "stream",
          "name": "stdout",
          "text": [
            "Sum of their age: 73\n"
          ]
        }
      ]
    },
    {
      "cell_type": "markdown",
      "source": [
        "Q3: You are working in a medical store. A patient came to your medical store and asked to buy 2 strips of paracetamol, 3 strips of azithromycin, and 5 strips of Vitamin C. One strip of paracetamol costs Rs 35, one strip of azithromycin costs Rs 49, and one strip of vitamin c costs Rs. 33. Patient gave you Rs 2000. Please tell us what is the total cost of each medicine, the total cost of all medicine, and how much money you refunded to the patient.  "
      ],
      "metadata": {
        "id": "297w9pvwchlP"
      }
    },
    {
      "cell_type": "code",
      "source": [
        "# Per Strip costs of medicine\n",
        "paracetomol_cost=35\n",
        "azithromycin_cost=49\n",
        "vitamin_C_cost=33\n",
        "\n",
        "# Quantity of each medicine\n",
        "paracetomol_quantity=2\n",
        "azithromycin_quantity=3\n",
        "vitamin_C_quantity=5\n",
        "\n",
        "# Total Cost of each medicine\n",
        "total_paracetomol_cost=paracetomol_cost*paracetomol_quantity\n",
        "total_azithromycin_cost=azithromycin_cost*azithromycin_quantity\n",
        "total_vitamin_C_cost=vitamin_C_cost*vitamin_C_quantity\n",
        "\n",
        "# Total cost of all medicine\n",
        "Total_cost=total_paracetomol_cost + total_azithromycin_cost + total_vitamin_C_cost\n",
        "\n",
        "# Amount given by Patient\n",
        "Amount = 2000\n",
        "\n",
        "# Refund Amount\n",
        "refund_amount = Amount-Total_cost"
      ],
      "metadata": {
        "id": "1eTO6D5OclV3"
      },
      "execution_count": null,
      "outputs": []
    },
    {
      "cell_type": "code",
      "source": [
        "print(f\"Total Cost of paracetomol: {total_paracetomol_cost}\")\n",
        "print(f\"Total Cost of azithromycin: {total_azithromycin_cost}\")\n",
        "print(f\"Total Cost of vitamin_C: {total_vitamin_C_cost}\")\n",
        "print(f\"Total Cost that Patient have to pay: {Total_cost}\")\n",
        "print(f\"Amount that have to refund to Patient: {refund_amount}\")"
      ],
      "metadata": {
        "colab": {
          "base_uri": "https://localhost:8080/"
        },
        "id": "VU9V2dCcjjng",
        "outputId": "8791b5f2-b77b-4902-ef33-75fdbfa30ea1"
      },
      "execution_count": null,
      "outputs": [
        {
          "output_type": "stream",
          "name": "stdout",
          "text": [
            "Total Cost of paracetomol: 70\n",
            "Total Cost of azithromycin: 147\n",
            "Total Cost of vitamin_C: 165\n",
            "Total Cost that Patient have to pay: 382\n",
            "Amount that have to refund to Patient: 1618\n"
          ]
        }
      ]
    },
    {
      "cell_type": "markdown",
      "source": [
        "Q4: Accept a sentence as input and find the number of vowels in it. Assume that the sentence has no punctuation marks. For example, I am learning python contains 6 vowels. This function should be applicable for all other different sentences."
      ],
      "metadata": {
        "id": "TL5ZinzZcmJO"
      }
    },
    {
      "cell_type": "code",
      "source": [
        "sentence=\"I am learning python\"\n",
        "vowels=\"aeiouAEIOU\"\n",
        "count=0\n",
        "for i in sentence:\n",
        "  if i in vowels:\n",
        "    count=count+1\n",
        "print(f\"I am learning python contains {count} vowels\")"
      ],
      "metadata": {
        "id": "RIRZrWZXcpNg",
        "colab": {
          "base_uri": "https://localhost:8080/"
        },
        "outputId": "5e8f017e-955c-4b5d-b0ce-10aa412cc209"
      },
      "execution_count": null,
      "outputs": [
        {
          "output_type": "stream",
          "name": "stdout",
          "text": [
            "I am learning python contains 6 vowels\n"
          ]
        }
      ]
    },
    {
      "cell_type": "markdown",
      "source": [
        "Q5: You have been appointed by the election commission to create a website. Your first task is to work on a program which tells candidates if they are eligible for voting or not. If they are eligible, your output should be ‘Congrats! You are eligible’; otherwise, it should tell that you have to return after X number of years. The eligibility criteria for voting is 18 years.\n",
        "\n",
        "\n",
        "\n",
        "For example, If someone is 18 or above, your output should be ‘Congrats! You are eligible’. If someone’s age is 15 years, it should print output as ‘return after 3 years’.   \n",
        "\n",
        "\n"
      ],
      "metadata": {
        "id": "jxXTY1PBcpv2"
      }
    },
    {
      "cell_type": "code",
      "source": [
        "age=int(input())\n",
        "\n",
        "voting_age_criteria=18\n",
        "\n",
        "if age>=voting_age_criteria:\n",
        "  print(\"Congrats! You are eligible\")\n",
        "else:\n",
        "  years_to_vote=voting_age_criteria-age\n",
        "  print(f\"return after {years_to_vote} years\")"
      ],
      "metadata": {
        "id": "UIxDkfb7ctZI",
        "colab": {
          "base_uri": "https://localhost:8080/"
        },
        "outputId": "dd7b6ebf-69db-49e6-b890-c4ab9420d863"
      },
      "execution_count": null,
      "outputs": [
        {
          "output_type": "stream",
          "name": "stdout",
          "text": [
            "18\n",
            "Congrats! You are eligible\n"
          ]
        }
      ]
    },
    {
      "cell_type": "markdown",
      "source": [
        "Q6: Given a list of integers, find the cumulative sum of the elements of the list and store them in another list.\n",
        "\n",
        "\n",
        "\n",
        "A = [1, 2, 3, 4, 5]\n",
        "\n",
        "\n",
        "\n",
        "Output:\n",
        "\n",
        "[1, 3, 6, 10, 15]\n"
      ],
      "metadata": {
        "id": "FeMyssCJc1y2"
      }
    },
    {
      "cell_type": "code",
      "source": [
        "A = [1, 2, 3, 4, 5]\n",
        "cummulative_sum=[]\n",
        "sum=0\n",
        "for i in A:\n",
        "  sum+=i\n",
        "  cummulative_sum.append(sum)\n",
        "print(cummulative_sum)"
      ],
      "metadata": {
        "id": "zade0E3lc5fo",
        "colab": {
          "base_uri": "https://localhost:8080/"
        },
        "outputId": "77fc0821-db56-4f64-cffc-95c00987bcb8"
      },
      "execution_count": null,
      "outputs": [
        {
          "output_type": "stream",
          "name": "stdout",
          "text": [
            "[1, 3, 6, 10, 15]\n"
          ]
        }
      ]
    },
    {
      "cell_type": "markdown",
      "source": [
        "*Q7*: WAP to encode a message entered by user as per below conditions:\n",
        "\n",
        "for every word in the sentence,\n",
        "\n",
        "1. If the word starts with a vowel, encode it as the first and last letter of the word.\n",
        "\n",
        "2. If the word starts with a consonant, remove all vowels from it.\n",
        "\n",
        "\n",
        "\n",
        "Ensure the case insensitive comparisons/checks are performed.\n",
        "\n",
        "\n",
        "\n",
        "Please enter your text:The quick brown fox used to sleep inside this box\n",
        "\n",
        "Encoded Msg: Th qck brwn fx ud t slp ie ths bx\n",
        "\n"
      ],
      "metadata": {
        "id": "n-1_5RLcdALg"
      }
    },
    {
      "cell_type": "code",
      "source": [
        "def encode_message(message):\n",
        "    vowels = ['a', 'e', 'i', 'o', 'u']\n",
        "    words = message.lower().split()\n",
        "    encoded_message = \"\"\n",
        "\n",
        "    for word in words:\n",
        "        if word[0] in vowels:\n",
        "            encoded_message += word[0] + word[-1] + \" \"\n",
        "        else:\n",
        "            encoded_word = \"\".join([char for char in word if char not in vowels])\n",
        "            encoded_message += encoded_word + \" \"\n",
        "\n",
        "    return encoded_message.strip()\n",
        "\n",
        "message = input(\"Please enter your text: \")\n",
        "encoded_message = encode_message(message)\n",
        "print(\"Encoded Msg: \", encoded_message)"
      ],
      "metadata": {
        "colab": {
          "base_uri": "https://localhost:8080/"
        },
        "id": "xVyEGx-o3k7P",
        "outputId": "3f9f0105-0a9e-4bf8-84b7-7022105b0eb6"
      },
      "execution_count": 48,
      "outputs": [
        {
          "output_type": "stream",
          "name": "stdout",
          "text": [
            "Please enter your text: The quick brown fox used to sleep inside this box\n",
            "Encoded Msg:  th qck brwn fx ud t slp ie ths bx\n"
          ]
        }
      ]
    },
    {
      "cell_type": "markdown",
      "source": [
        "Q8: Write a program to implement run length encoding of a string\n",
        "\n",
        "RLE:Consecutive repetition of a character has to be replaced with the count of occurrences and the character.\n",
        "\n",
        "Enter your string :aabbbccdddae\n",
        "\n",
        "Encoded: 2a3b2c3d1a1e"
      ],
      "metadata": {
        "id": "pGFKTimgdDbH"
      }
    },
    {
      "cell_type": "code",
      "source": [
        "def run_length_encoding(input_string):\n",
        "    encoded_string = \"\"\n",
        "    count = 1\n",
        "    current_char = input_string[0]\n",
        "\n",
        "    for char in input_string[1:]:\n",
        "        if char == current_char:\n",
        "            count += 1\n",
        "        else:\n",
        "            encoded_string += str(count) + current_char\n",
        "            count = 1\n",
        "            current_char = char\n",
        "\n",
        "    encoded_string += str(count) + current_char\n",
        "    return encoded_string\n",
        "\n",
        "input_string = input(\"Please enter your string: \")\n",
        "encoded_string = run_length_encoding(input_string)\n",
        "print(\"Encoded: \",encoded_string)"
      ],
      "metadata": {
        "id": "IHAfRo1SdIOP",
        "colab": {
          "base_uri": "https://localhost:8080/"
        },
        "outputId": "14e87b7e-78d1-4bdf-c117-48d8e6017ed4"
      },
      "execution_count": 45,
      "outputs": [
        {
          "output_type": "stream",
          "name": "stdout",
          "text": [
            "Please enter your string: aabbbccdddae\n",
            "Encoded:  2a3b2c3d1a1e\n"
          ]
        }
      ]
    }
  ]
}